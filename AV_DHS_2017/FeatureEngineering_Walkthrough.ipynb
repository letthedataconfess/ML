{
 "cells": [
  {
   "cell_type": "code",
   "execution_count": 1,
   "metadata": {
    "collapsed": false
   },
   "outputs": [
    {
     "name": "stderr",
     "output_type": "stream",
     "text": [
      "/System/Library/Frameworks/Python.framework/Versions/2.7/lib/python2.7/json/encoder.py:207: DeprecationWarning: Interpreting naive datetime as local 2017-11-11 00:46:32.425102. Please add timezone info to timestamps.\n",
      "  chunks = self.iterencode(o, _one_shot=True)\n"
     ]
    }
   ],
   "source": [
    "import numpy as np # linear algebra\n",
    "import pandas as pd # data processing, CSV file I/O (e.g. pd.read_csv)\n",
    "import matplotlib.pyplot as plt\n",
    "import seaborn as sns\n",
    "import nltk\n",
    "from nltk.corpus import stopwords\n",
    "import string\n",
    "import xgboost as xgb\n",
    "from sklearn.feature_extraction.text import TfidfVectorizer, CountVectorizer\n",
    "from sklearn.decomposition import TruncatedSVD\n",
    "from sklearn import ensemble, metrics, model_selection, naive_bayes\n",
    "color = sns.color_palette()\n",
    "\n",
    "%matplotlib inline\n",
    "\n",
    "eng_stopwords = set(stopwords.words(\"english\"))\n",
    "pd.options.mode.chained_assignment = None"
   ]
  },
  {
   "cell_type": "code",
   "execution_count": 2,
   "metadata": {
    "collapsed": false
   },
   "outputs": [
    {
     "name": "stdout",
     "output_type": "stream",
     "text": [
      "('Number of rows in train dataset : ', 19579)\n",
      "('Number of rows in test dataset : ', 8392)\n"
     ]
    },
    {
     "name": "stderr",
     "output_type": "stream",
     "text": [
      "/System/Library/Frameworks/Python.framework/Versions/2.7/lib/python2.7/json/encoder.py:207: DeprecationWarning: Interpreting naive datetime as local 2017-11-11 00:46:43.272856. Please add timezone info to timestamps.\n",
      "  chunks = self.iterencode(o, _one_shot=True)\n"
     ]
    }
   ],
   "source": [
    "## Read the train and test dataset and check the top few lines ##\n",
    "train_df = pd.read_csv(\"../input/train.csv\")\n",
    "test_df = pd.read_csv(\"../input/test.csv\")\n",
    "print(\"Number of rows in train dataset : \",train_df.shape[0])\n",
    "print(\"Number of rows in test dataset : \",test_df.shape[0])"
   ]
  },
  {
   "cell_type": "code",
   "execution_count": 3,
   "metadata": {
    "collapsed": false
   },
   "outputs": [
    {
     "data": {
      "text/html": [
       "<div>\n",
       "<style>\n",
       "    .dataframe thead tr:only-child th {\n",
       "        text-align: right;\n",
       "    }\n",
       "\n",
       "    .dataframe thead th {\n",
       "        text-align: left;\n",
       "    }\n",
       "\n",
       "    .dataframe tbody tr th {\n",
       "        vertical-align: top;\n",
       "    }\n",
       "</style>\n",
       "<table border=\"1\" class=\"dataframe\">\n",
       "  <thead>\n",
       "    <tr style=\"text-align: right;\">\n",
       "      <th></th>\n",
       "      <th>id</th>\n",
       "      <th>text</th>\n",
       "      <th>author</th>\n",
       "    </tr>\n",
       "  </thead>\n",
       "  <tbody>\n",
       "    <tr>\n",
       "      <th>0</th>\n",
       "      <td>id26305</td>\n",
       "      <td>This process, however, afforded me no means of...</td>\n",
       "      <td>EAP</td>\n",
       "    </tr>\n",
       "    <tr>\n",
       "      <th>1</th>\n",
       "      <td>id17569</td>\n",
       "      <td>It never once occurred to me that the fumbling...</td>\n",
       "      <td>HPL</td>\n",
       "    </tr>\n",
       "    <tr>\n",
       "      <th>2</th>\n",
       "      <td>id11008</td>\n",
       "      <td>In his left hand was a gold snuff box, from wh...</td>\n",
       "      <td>EAP</td>\n",
       "    </tr>\n",
       "    <tr>\n",
       "      <th>3</th>\n",
       "      <td>id27763</td>\n",
       "      <td>How lovely is spring As we looked from Windsor...</td>\n",
       "      <td>MWS</td>\n",
       "    </tr>\n",
       "    <tr>\n",
       "      <th>4</th>\n",
       "      <td>id12958</td>\n",
       "      <td>Finding nothing else, not even gold, the Super...</td>\n",
       "      <td>HPL</td>\n",
       "    </tr>\n",
       "  </tbody>\n",
       "</table>\n",
       "</div>"
      ],
      "text/plain": [
       "        id                                               text author\n",
       "0  id26305  This process, however, afforded me no means of...    EAP\n",
       "1  id17569  It never once occurred to me that the fumbling...    HPL\n",
       "2  id11008  In his left hand was a gold snuff box, from wh...    EAP\n",
       "3  id27763  How lovely is spring As we looked from Windsor...    MWS\n",
       "4  id12958  Finding nothing else, not even gold, the Super...    HPL"
      ]
     },
     "execution_count": 3,
     "metadata": {},
     "output_type": "execute_result"
    },
    {
     "name": "stderr",
     "output_type": "stream",
     "text": [
      "/System/Library/Frameworks/Python.framework/Versions/2.7/lib/python2.7/json/encoder.py:207: DeprecationWarning: Interpreting naive datetime as local 2017-11-11 00:46:55.409739. Please add timezone info to timestamps.\n",
      "  chunks = self.iterencode(o, _one_shot=True)\n"
     ]
    }
   ],
   "source": [
    "train_df.head()"
   ]
  },
  {
   "cell_type": "markdown",
   "metadata": {},
   "source": [
    "### Feature Engineering:\n",
    "\n",
    "Now let us come try to do some feature engineering. This consists of two main parts.\n",
    "\n",
    "**Meta features** - features that are extracted from the text like number of words, number of stop words, number of punctuations etc\n",
    "\n",
    "**Text based features** - features directly based on the text / words like frequency, svd, word2vec etc.\n",
    "Meta Features:\n",
    "\n",
    "We will start with creating meta featues and see how good are they at predicting the spooky authors. The feature list is as follows:\n",
    "\n",
    "1. Number of words in the text\n",
    "2. Number of unique words in the text\n",
    "3. Number of characters in the text\n",
    "4. Number of stopwords\n",
    "5. Number of punctuations\n",
    "6. Number of upper case words\n",
    "7. Number of title case words\n",
    "8. Average length of the words"
   ]
  },
  {
   "cell_type": "code",
   "execution_count": 4,
   "metadata": {
    "collapsed": false
   },
   "outputs": [
    {
     "name": "stderr",
     "output_type": "stream",
     "text": [
      "/System/Library/Frameworks/Python.framework/Versions/2.7/lib/python2.7/json/encoder.py:207: DeprecationWarning: Interpreting naive datetime as local 2017-11-11 00:49:15.958793. Please add timezone info to timestamps.\n",
      "  chunks = self.iterencode(o, _one_shot=True)\n"
     ]
    }
   ],
   "source": [
    "## Number of words in the text ##\n",
    "train_df[\"num_words\"] = train_df[\"text\"].apply(lambda x: len(str(x).split()))\n",
    "test_df[\"num_words\"] = test_df[\"text\"].apply(lambda x: len(str(x).split()))\n",
    "\n",
    "## Number of unique words in the text ##\n",
    "train_df[\"num_unique_words\"] = train_df[\"text\"].apply(lambda x: len(set(str(x).split())))\n",
    "test_df[\"num_unique_words\"] = test_df[\"text\"].apply(lambda x: len(set(str(x).split())))\n",
    "\n",
    "## Number of characters in the text ##\n",
    "train_df[\"num_chars\"] = train_df[\"text\"].apply(lambda x: len(str(x)))\n",
    "test_df[\"num_chars\"] = test_df[\"text\"].apply(lambda x: len(str(x)))\n",
    "\n",
    "## Number of stopwords in the text ##\n",
    "train_df[\"num_stopwords\"] = train_df[\"text\"].apply(lambda x: len([w for w in str(x).lower().split() if w in eng_stopwords]))\n",
    "test_df[\"num_stopwords\"] = test_df[\"text\"].apply(lambda x: len([w for w in str(x).lower().split() if w in eng_stopwords]))\n",
    "\n",
    "## Number of punctuations in the text ##\n",
    "train_df[\"num_punctuations\"] =train_df['text'].apply(lambda x: len([c for c in str(x) if c in string.punctuation]) )\n",
    "test_df[\"num_punctuations\"] =test_df['text'].apply(lambda x: len([c for c in str(x) if c in string.punctuation]) )\n",
    "\n",
    "## Number of title case words in the text ##\n",
    "train_df[\"num_words_upper\"] = train_df[\"text\"].apply(lambda x: len([w for w in str(x).split() if w.isupper()]))\n",
    "test_df[\"num_words_upper\"] = test_df[\"text\"].apply(lambda x: len([w for w in str(x).split() if w.isupper()]))\n",
    "\n",
    "## Number of title case words in the text ##\n",
    "train_df[\"num_words_title\"] = train_df[\"text\"].apply(lambda x: len([w for w in str(x).split() if w.istitle()]))\n",
    "test_df[\"num_words_title\"] = test_df[\"text\"].apply(lambda x: len([w for w in str(x).split() if w.istitle()]))\n",
    "\n",
    "## Average length of the words in the text ##\n",
    "train_df[\"mean_word_len\"] = train_df[\"text\"].apply(lambda x: np.mean([len(w) for w in str(x).split()]))\n",
    "test_df[\"mean_word_len\"] = test_df[\"text\"].apply(lambda x: np.mean([len(w) for w in str(x).split()]))"
   ]
  },
  {
   "cell_type": "code",
   "execution_count": 5,
   "metadata": {
    "collapsed": false
   },
   "outputs": [
    {
     "name": "stderr",
     "output_type": "stream",
     "text": [
      "/System/Library/Frameworks/Python.framework/Versions/2.7/lib/python2.7/json/encoder.py:207: DeprecationWarning: Interpreting naive datetime as local 2017-11-11 00:49:48.307074. Please add timezone info to timestamps.\n",
      "  chunks = self.iterencode(o, _one_shot=True)\n"
     ]
    }
   ],
   "source": [
    "## Prepare the data for modeling ###\n",
    "author_mapping_dict = {'EAP':0, 'HPL':1, 'MWS':2}\n",
    "train_y = train_df['author'].map(author_mapping_dict)\n",
    "train_id = train_df['id'].values\n",
    "test_id = test_df['id'].values\n",
    "\n",
    "cols_to_drop = ['id', 'text']\n",
    "train_X = train_df.drop(cols_to_drop+['author'], axis=1)\n",
    "test_X = test_df.drop(cols_to_drop, axis=1)"
   ]
  },
  {
   "cell_type": "code",
   "execution_count": 6,
   "metadata": {
    "collapsed": false
   },
   "outputs": [
    {
     "name": "stderr",
     "output_type": "stream",
     "text": [
      "/System/Library/Frameworks/Python.framework/Versions/2.7/lib/python2.7/json/encoder.py:207: DeprecationWarning: Interpreting naive datetime as local 2017-11-11 00:50:02.659856. Please add timezone info to timestamps.\n",
      "  chunks = self.iterencode(o, _one_shot=True)\n"
     ]
    }
   ],
   "source": [
    "def runXGB(train_X, train_y, test_X, test_y=None, test_X2=None, seed_val=0, child=1, colsample=0.3):\n",
    "    param = {}\n",
    "    param['objective'] = 'multi:softprob'\n",
    "    param['eta'] = 0.1\n",
    "    param['max_depth'] = 3\n",
    "    param['silent'] = 1\n",
    "    param['num_class'] = 3\n",
    "    param['eval_metric'] = \"mlogloss\"\n",
    "    param['min_child_weight'] = child\n",
    "    param['subsample'] = 0.8\n",
    "    param['colsample_bytree'] = colsample\n",
    "    param['seed'] = seed_val\n",
    "    num_rounds = 2000\n",
    "\n",
    "    plst = list(param.items())\n",
    "    xgtrain = xgb.DMatrix(train_X, label=train_y)\n",
    "\n",
    "    if test_y is not None:\n",
    "        xgtest = xgb.DMatrix(test_X, label=test_y)\n",
    "        watchlist = [ (xgtrain,'train'), (xgtest, 'test') ]\n",
    "        model = xgb.train(plst, xgtrain, num_rounds, watchlist, early_stopping_rounds=50, verbose_eval=20)\n",
    "    else:\n",
    "        xgtest = xgb.DMatrix(test_X)\n",
    "        model = xgb.train(plst, xgtrain, num_rounds)\n",
    "\n",
    "    pred_test_y = model.predict(xgtest, ntree_limit = model.best_ntree_limit)\n",
    "    if test_X2 is not None:\n",
    "        xgtest2 = xgb.DMatrix(test_X2)\n",
    "        pred_test_y2 = model.predict(xgtest2, ntree_limit = model.best_ntree_limit)\n",
    "    return pred_test_y, pred_test_y2, model"
   ]
  },
  {
   "cell_type": "code",
   "execution_count": 7,
   "metadata": {
    "collapsed": false
   },
   "outputs": [
    {
     "name": "stdout",
     "output_type": "stream",
     "text": [
      "[0]\ttrain-mlogloss:1.09189\ttest-mlogloss:1.09251\n",
      "Multiple eval metrics have been passed: 'test-mlogloss' will be used for early stopping.\n",
      "\n",
      "Will train until test-mlogloss hasn't improved in 50 rounds.\n",
      "[20]\ttrain-mlogloss:1.03983\ttest-mlogloss:1.05136\n",
      "[40]\ttrain-mlogloss:1.01688\ttest-mlogloss:1.03301\n",
      "[60]\ttrain-mlogloss:1.00484\ttest-mlogloss:1.02435\n",
      "[80]\ttrain-mlogloss:0.993582\ttest-mlogloss:1.01569\n",
      "[100]\ttrain-mlogloss:0.985397\ttest-mlogloss:1.01011\n",
      "[120]\ttrain-mlogloss:0.978863\ttest-mlogloss:1.00578\n",
      "[140]\ttrain-mlogloss:0.97414\ttest-mlogloss:1.00391\n",
      "[160]\ttrain-mlogloss:0.96952\ttest-mlogloss:1.00165\n",
      "[180]\ttrain-mlogloss:0.964616\ttest-mlogloss:0.998702\n",
      "[200]\ttrain-mlogloss:0.960827\ttest-mlogloss:0.997587\n",
      "[220]\ttrain-mlogloss:0.957142\ttest-mlogloss:0.996267\n",
      "[240]\ttrain-mlogloss:0.953026\ttest-mlogloss:0.994796\n",
      "[260]\ttrain-mlogloss:0.949394\ttest-mlogloss:0.993731\n",
      "[280]\ttrain-mlogloss:0.94612\ttest-mlogloss:0.992725\n",
      "[300]\ttrain-mlogloss:0.94294\ttest-mlogloss:0.991752\n",
      "[320]\ttrain-mlogloss:0.93966\ttest-mlogloss:0.990912\n",
      "[340]\ttrain-mlogloss:0.936769\ttest-mlogloss:0.990372\n",
      "[360]\ttrain-mlogloss:0.933903\ttest-mlogloss:0.98932\n",
      "[380]\ttrain-mlogloss:0.931571\ttest-mlogloss:0.98875\n",
      "[400]\ttrain-mlogloss:0.928924\ttest-mlogloss:0.987892\n",
      "[420]\ttrain-mlogloss:0.926748\ttest-mlogloss:0.98781\n",
      "[440]\ttrain-mlogloss:0.924753\ttest-mlogloss:0.987598\n",
      "[460]\ttrain-mlogloss:0.922424\ttest-mlogloss:0.987474\n",
      "[480]\ttrain-mlogloss:0.920216\ttest-mlogloss:0.987045\n",
      "[500]\ttrain-mlogloss:0.918382\ttest-mlogloss:0.987165\n",
      "[520]\ttrain-mlogloss:0.916704\ttest-mlogloss:0.987339\n",
      "Stopping. Best iteration:\n",
      "[479]\ttrain-mlogloss:0.92032\ttest-mlogloss:0.986999\n",
      "\n",
      "[0]\ttrain-mlogloss:1.09181\ttest-mlogloss:1.09162\n",
      "Multiple eval metrics have been passed: 'test-mlogloss' will be used for early stopping.\n",
      "\n",
      "Will train until test-mlogloss hasn't improved in 50 rounds.\n",
      "[20]\ttrain-mlogloss:1.04315\ttest-mlogloss:1.04192\n",
      "[40]\ttrain-mlogloss:1.02022\ttest-mlogloss:1.02138\n",
      "[60]\ttrain-mlogloss:1.008\ttest-mlogloss:1.01189\n",
      "[80]\ttrain-mlogloss:0.99637\ttest-mlogloss:1.00257\n",
      "[100]\ttrain-mlogloss:0.988208\ttest-mlogloss:0.997619\n",
      "[120]\ttrain-mlogloss:0.981625\ttest-mlogloss:0.993492\n",
      "[140]\ttrain-mlogloss:0.976572\ttest-mlogloss:0.991445\n",
      "[160]\ttrain-mlogloss:0.971625\ttest-mlogloss:0.989398\n",
      "[180]\ttrain-mlogloss:0.966381\ttest-mlogloss:0.986557\n",
      "[200]\ttrain-mlogloss:0.962522\ttest-mlogloss:0.985229\n",
      "[220]\ttrain-mlogloss:0.958944\ttest-mlogloss:0.984046\n",
      "[240]\ttrain-mlogloss:0.954919\ttest-mlogloss:0.982087\n",
      "[260]\ttrain-mlogloss:0.951505\ttest-mlogloss:0.981439\n",
      "[280]\ttrain-mlogloss:0.948442\ttest-mlogloss:0.980428\n",
      "[300]\ttrain-mlogloss:0.945357\ttest-mlogloss:0.979167\n",
      "[320]\ttrain-mlogloss:0.941856\ttest-mlogloss:0.978073\n",
      "[340]\ttrain-mlogloss:0.939062\ttest-mlogloss:0.977566\n",
      "[360]\ttrain-mlogloss:0.936231\ttest-mlogloss:0.976568\n",
      "[380]\ttrain-mlogloss:0.934004\ttest-mlogloss:0.976412\n",
      "[400]\ttrain-mlogloss:0.931523\ttest-mlogloss:0.975827\n",
      "[420]\ttrain-mlogloss:0.92924\ttest-mlogloss:0.975556\n",
      "[440]\ttrain-mlogloss:0.927044\ttest-mlogloss:0.975139\n",
      "[460]\ttrain-mlogloss:0.924733\ttest-mlogloss:0.974857\n",
      "[480]\ttrain-mlogloss:0.922431\ttest-mlogloss:0.974581\n",
      "[500]\ttrain-mlogloss:0.920694\ttest-mlogloss:0.974332\n",
      "[520]\ttrain-mlogloss:0.918583\ttest-mlogloss:0.974589\n",
      "[540]\ttrain-mlogloss:0.916716\ttest-mlogloss:0.974867\n",
      "Stopping. Best iteration:\n",
      "[506]\ttrain-mlogloss:0.919978\ttest-mlogloss:0.974235\n",
      "\n",
      "[0]\ttrain-mlogloss:1.09158\ttest-mlogloss:1.09245\n",
      "Multiple eval metrics have been passed: 'test-mlogloss' will be used for early stopping.\n",
      "\n",
      "Will train until test-mlogloss hasn't improved in 50 rounds.\n",
      "[20]\ttrain-mlogloss:1.04073\ttest-mlogloss:1.04905\n",
      "[40]\ttrain-mlogloss:1.01736\ttest-mlogloss:1.03073\n",
      "[60]\ttrain-mlogloss:1.00523\ttest-mlogloss:1.02248\n",
      "[80]\ttrain-mlogloss:0.993104\ttest-mlogloss:1.01447\n",
      "[100]\ttrain-mlogloss:0.984956\ttest-mlogloss:1.01009\n",
      "[120]\ttrain-mlogloss:0.978437\ttest-mlogloss:1.00601\n",
      "[140]\ttrain-mlogloss:0.973569\ttest-mlogloss:1.00391\n",
      "[160]\ttrain-mlogloss:0.968866\ttest-mlogloss:1.00186\n",
      "[180]\ttrain-mlogloss:0.963801\ttest-mlogloss:0.999593\n",
      "[200]\ttrain-mlogloss:0.959804\ttest-mlogloss:0.998477\n",
      "[220]\ttrain-mlogloss:0.956065\ttest-mlogloss:0.996947\n",
      "[240]\ttrain-mlogloss:0.952133\ttest-mlogloss:0.995692\n",
      "[260]\ttrain-mlogloss:0.948591\ttest-mlogloss:0.994816\n",
      "[280]\ttrain-mlogloss:0.945662\ttest-mlogloss:0.993855\n",
      "[300]\ttrain-mlogloss:0.942518\ttest-mlogloss:0.99294\n",
      "[320]\ttrain-mlogloss:0.939024\ttest-mlogloss:0.991858\n",
      "[340]\ttrain-mlogloss:0.936198\ttest-mlogloss:0.990912\n",
      "[360]\ttrain-mlogloss:0.933341\ttest-mlogloss:0.989508\n",
      "[380]\ttrain-mlogloss:0.931226\ttest-mlogloss:0.989184\n",
      "[400]\ttrain-mlogloss:0.928819\ttest-mlogloss:0.988329\n",
      "[420]\ttrain-mlogloss:0.926729\ttest-mlogloss:0.987934\n",
      "[440]\ttrain-mlogloss:0.924668\ttest-mlogloss:0.98759\n",
      "[460]\ttrain-mlogloss:0.922376\ttest-mlogloss:0.986829\n",
      "[480]\ttrain-mlogloss:0.920115\ttest-mlogloss:0.986411\n",
      "[500]\ttrain-mlogloss:0.918484\ttest-mlogloss:0.986512\n",
      "[520]\ttrain-mlogloss:0.916658\ttest-mlogloss:0.986597\n",
      "[540]\ttrain-mlogloss:0.914814\ttest-mlogloss:0.986728\n",
      "Stopping. Best iteration:\n",
      "[493]\ttrain-mlogloss:0.918942\ttest-mlogloss:0.986337\n",
      "\n",
      "[0]\ttrain-mlogloss:1.09169\ttest-mlogloss:1.09159\n",
      "Multiple eval metrics have been passed: 'test-mlogloss' will be used for early stopping.\n",
      "\n",
      "Will train until test-mlogloss hasn't improved in 50 rounds.\n",
      "[20]\ttrain-mlogloss:1.0417\ttest-mlogloss:1.04625\n",
      "[40]\ttrain-mlogloss:1.01893\ttest-mlogloss:1.02747\n",
      "[60]\ttrain-mlogloss:1.0064\ttest-mlogloss:1.01814\n",
      "[80]\ttrain-mlogloss:0.994807\ttest-mlogloss:1.00992\n",
      "[100]\ttrain-mlogloss:0.986934\ttest-mlogloss:1.00478\n",
      "[120]\ttrain-mlogloss:0.980234\ttest-mlogloss:1.00096\n",
      "[140]\ttrain-mlogloss:0.975483\ttest-mlogloss:0.998944\n",
      "[160]\ttrain-mlogloss:0.970914\ttest-mlogloss:0.996607\n",
      "[180]\ttrain-mlogloss:0.965748\ttest-mlogloss:0.993832\n",
      "[200]\ttrain-mlogloss:0.961709\ttest-mlogloss:0.992549\n",
      "[220]\ttrain-mlogloss:0.957858\ttest-mlogloss:0.991354\n",
      "[240]\ttrain-mlogloss:0.953676\ttest-mlogloss:0.989517\n",
      "[260]\ttrain-mlogloss:0.94992\ttest-mlogloss:0.988091\n",
      "[280]\ttrain-mlogloss:0.946668\ttest-mlogloss:0.987175\n",
      "[300]\ttrain-mlogloss:0.943236\ttest-mlogloss:0.986491\n",
      "[320]\ttrain-mlogloss:0.939765\ttest-mlogloss:0.985969\n",
      "[340]\ttrain-mlogloss:0.936972\ttest-mlogloss:0.98527\n",
      "[360]\ttrain-mlogloss:0.934222\ttest-mlogloss:0.984862\n",
      "[380]\ttrain-mlogloss:0.932047\ttest-mlogloss:0.984578\n",
      "[400]\ttrain-mlogloss:0.929461\ttest-mlogloss:0.983666\n",
      "[420]\ttrain-mlogloss:0.927134\ttest-mlogloss:0.982975\n",
      "[440]\ttrain-mlogloss:0.925079\ttest-mlogloss:0.983201\n",
      "[460]\ttrain-mlogloss:0.922958\ttest-mlogloss:0.982733\n",
      "[480]\ttrain-mlogloss:0.920614\ttest-mlogloss:0.982156\n",
      "[500]\ttrain-mlogloss:0.918899\ttest-mlogloss:0.981752\n",
      "[520]\ttrain-mlogloss:0.917042\ttest-mlogloss:0.981471\n",
      "[540]\ttrain-mlogloss:0.915258\ttest-mlogloss:0.981485\n",
      "[560]\ttrain-mlogloss:0.913214\ttest-mlogloss:0.981495\n",
      "[580]\ttrain-mlogloss:0.911353\ttest-mlogloss:0.981507\n",
      "Stopping. Best iteration:\n",
      "[532]\ttrain-mlogloss:0.915867\ttest-mlogloss:0.981322\n",
      "\n",
      "[0]\ttrain-mlogloss:1.09382\ttest-mlogloss:1.09408\n",
      "Multiple eval metrics have been passed: 'test-mlogloss' will be used for early stopping.\n",
      "\n",
      "Will train until test-mlogloss hasn't improved in 50 rounds.\n",
      "[20]\ttrain-mlogloss:1.04888\ttest-mlogloss:1.05198\n",
      "[40]\ttrain-mlogloss:1.02611\ttest-mlogloss:1.03162\n",
      "[60]\ttrain-mlogloss:1.01203\ttest-mlogloss:1.0211\n",
      "[80]\ttrain-mlogloss:1.00066\ttest-mlogloss:1.0128\n",
      "[100]\ttrain-mlogloss:0.989783\ttest-mlogloss:1.00456\n",
      "[120]\ttrain-mlogloss:0.983171\ttest-mlogloss:1.00043\n",
      "[140]\ttrain-mlogloss:0.977327\ttest-mlogloss:0.997\n",
      "[160]\ttrain-mlogloss:0.97128\ttest-mlogloss:0.993232\n",
      "[180]\ttrain-mlogloss:0.966338\ttest-mlogloss:0.990649\n",
      "[200]\ttrain-mlogloss:0.962458\ttest-mlogloss:0.987925\n",
      "[220]\ttrain-mlogloss:0.958001\ttest-mlogloss:0.985771\n",
      "[240]\ttrain-mlogloss:0.954451\ttest-mlogloss:0.984846\n",
      "[260]\ttrain-mlogloss:0.950828\ttest-mlogloss:0.983358\n",
      "[280]\ttrain-mlogloss:0.947403\ttest-mlogloss:0.982256\n",
      "[300]\ttrain-mlogloss:0.944545\ttest-mlogloss:0.981593\n",
      "[320]\ttrain-mlogloss:0.941911\ttest-mlogloss:0.980571\n",
      "[340]\ttrain-mlogloss:0.938877\ttest-mlogloss:0.979133\n",
      "[360]\ttrain-mlogloss:0.936524\ttest-mlogloss:0.978706\n",
      "[380]\ttrain-mlogloss:0.933978\ttest-mlogloss:0.978002\n",
      "[400]\ttrain-mlogloss:0.931543\ttest-mlogloss:0.977601\n",
      "[420]\ttrain-mlogloss:0.929249\ttest-mlogloss:0.977608\n",
      "[440]\ttrain-mlogloss:0.926996\ttest-mlogloss:0.977416\n",
      "[460]\ttrain-mlogloss:0.925102\ttest-mlogloss:0.977233\n",
      "[480]\ttrain-mlogloss:0.923056\ttest-mlogloss:0.976967\n",
      "[500]\ttrain-mlogloss:0.920872\ttest-mlogloss:0.976424\n",
      "[520]\ttrain-mlogloss:0.918671\ttest-mlogloss:0.975762\n",
      "[540]\ttrain-mlogloss:0.916787\ttest-mlogloss:0.975477\n",
      "[560]\ttrain-mlogloss:0.914851\ttest-mlogloss:0.975278\n",
      "[580]\ttrain-mlogloss:0.913244\ttest-mlogloss:0.975507\n",
      "[600]\ttrain-mlogloss:0.911539\ttest-mlogloss:0.975462\n",
      "Stopping. Best iteration:\n",
      "[567]\ttrain-mlogloss:0.914325\ttest-mlogloss:0.975196\n",
      "\n",
      "('cv scores : ', [0.98699941935894808, 0.9742351018717138, 0.98633688999543512, 0.98132215784263321, 0.97519610324520067])\n"
     ]
    },
    {
     "name": "stderr",
     "output_type": "stream",
     "text": [
      "/System/Library/Frameworks/Python.framework/Versions/2.7/lib/python2.7/json/encoder.py:207: DeprecationWarning: Interpreting naive datetime as local 2017-11-11 00:50:24.063207. Please add timezone info to timestamps.\n",
      "  chunks = self.iterencode(o, _one_shot=True)\n"
     ]
    }
   ],
   "source": [
    "kf = model_selection.KFold(n_splits=5, shuffle=True, random_state=2017)\n",
    "cv_scores = []\n",
    "pred_full_test = 0\n",
    "pred_train = np.zeros([train_df.shape[0], 3])\n",
    "for dev_index, val_index in kf.split(train_X):\n",
    "    dev_X, val_X = train_X.loc[dev_index], train_X.loc[val_index]\n",
    "    dev_y, val_y = train_y[dev_index], train_y[val_index]\n",
    "    pred_val_y, pred_test_y, model = runXGB(dev_X, dev_y, val_X, val_y, test_X, seed_val=0)\n",
    "    pred_full_test = pred_full_test + pred_test_y\n",
    "    pred_train[val_index,:] = pred_val_y\n",
    "    cv_scores.append(metrics.log_loss(val_y, pred_val_y))\n",
    "print(\"Mean cv scores : \", np.mean(cv_scores))\n"
   ]
  },
  {
   "cell_type": "code",
   "execution_count": 8,
   "metadata": {
    "collapsed": false
   },
   "outputs": [
    {
     "data": {
      "image/png": "[encoded data removed]",
      "text/plain": [
       "<matplotlib.figure.Figure at 0x115ecec90>"
      ]
     },
     "metadata": {},
     "output_type": "display_data"
    },
    {
     "name": "stderr",
     "output_type": "stream",
     "text": [
      "/System/Library/Frameworks/Python.framework/Versions/2.7/lib/python2.7/json/encoder.py:207: DeprecationWarning: Interpreting naive datetime as local 2017-11-11 00:51:30.753482. Please add timezone info to timestamps.\n",
      "  chunks = self.iterencode(o, _one_shot=True)\n"
     ]
    }
   ],
   "source": [
    "### Plot the important variables ###\n",
    "fig, ax = plt.subplots(figsize=(12,12))\n",
    "xgb.plot_importance(model, max_num_features=50, height=0.8, ax=ax)\n",
    "plt.show()"
   ]
  },
  {
   "cell_type": "markdown",
   "metadata": {},
   "source": [
    "**Text Based Features :**\n",
    "\n",
    "One of the basic features which we could create is tf-idf values of the words present in the text. So we can start with that one."
   ]
  },
  {
   "cell_type": "code",
   "execution_count": 23,
   "metadata": {
    "collapsed": false
   },
   "outputs": [
    {
     "name": "stderr",
     "output_type": "stream",
     "text": [
      "/System/Library/Frameworks/Python.framework/Versions/2.7/lib/python2.7/json/encoder.py:207: DeprecationWarning: Interpreting naive datetime as local 2017-11-11 01:05:06.085026. Please add timezone info to timestamps.\n",
      "  chunks = self.iterencode(o, _one_shot=True)\n"
     ]
    }
   ],
   "source": [
    "### Fit transform the tfidf vectorizer ###\n",
    "tfidf_vec = TfidfVectorizer(stop_words='english', ngram_range=(1,3))\n",
    "full_tfidf = tfidf_vec.fit_transform(train_df['text'].values.tolist() + test_df['text'].values.tolist())\n",
    "train_tfidf = tfidf_vec.transform(train_df['text'].values.tolist())\n",
    "test_tfidf = tfidf_vec.transform(test_df['text'].values.tolist())"
   ]
  },
  {
   "cell_type": "markdown",
   "metadata": {},
   "source": [
    "Now that we have got the tfidf vector, here is the tricky part. The tfidf output is a sparse matrix and so if we have to use it with other dense features, we have couple of choices.\n",
    "\n",
    "1. We can choose to get the top 'n' features (depending on the system config) from the tfidf vectorizer, convert it into dense format and concat with other features.\n",
    "2. Build a model using just the sparse features and then use the predictions as one of the features along with other dense features (a type of stacking)\n",
    "\n",
    "Based on the dataset, one might perform better than the other."
   ]
  },
  {
   "cell_type": "code",
   "execution_count": 24,
   "metadata": {
    "collapsed": false
   },
   "outputs": [
    {
     "name": "stderr",
     "output_type": "stream",
     "text": [
      "/System/Library/Frameworks/Python.framework/Versions/2.7/lib/python2.7/json/encoder.py:207: DeprecationWarning: Interpreting naive datetime as local 2017-11-11 01:05:12.497189. Please add timezone info to timestamps.\n",
      "  chunks = self.iterencode(o, _one_shot=True)\n"
     ]
    }
   ],
   "source": [
    "def runMNB(train_X, train_y, test_X, test_y, test_X2):\n",
    "    model = naive_bayes.MultinomialNB()\n",
    "    model.fit(train_X, train_y)\n",
    "    pred_test_y = model.predict_proba(test_X)\n",
    "    pred_test_y2 = model.predict_proba(test_X2)\n",
    "    return pred_test_y, pred_test_y2, model"
   ]
  },
  {
   "cell_type": "code",
   "execution_count": 25,
   "metadata": {
    "collapsed": false
   },
   "outputs": [
    {
     "name": "stdout",
     "output_type": "stream",
     "text": [
      "('Mean cv score : ', 0.84221619836128525)\n"
     ]
    },
    {
     "name": "stderr",
     "output_type": "stream",
     "text": [
      "/System/Library/Frameworks/Python.framework/Versions/2.7/lib/python2.7/json/encoder.py:207: DeprecationWarning: Interpreting naive datetime as local 2017-11-11 01:05:12.504342. Please add timezone info to timestamps.\n",
      "  chunks = self.iterencode(o, _one_shot=True)\n"
     ]
    }
   ],
   "source": [
    "cv_scores = []\n",
    "pred_full_test = 0\n",
    "pred_train = np.zeros([train_df.shape[0], 3])\n",
    "kf = model_selection.KFold(n_splits=5, shuffle=True, random_state=2017)\n",
    "for dev_index, val_index in kf.split(train_X):\n",
    "    dev_X, val_X = train_tfidf[dev_index], train_tfidf[val_index]\n",
    "    dev_y, val_y = train_y[dev_index], train_y[val_index]\n",
    "    pred_val_y, pred_test_y, model = runMNB(dev_X, dev_y, val_X, val_y, test_tfidf)\n",
    "    pred_full_test = pred_full_test + pred_test_y\n",
    "    pred_train[val_index,:] = pred_val_y\n",
    "    cv_scores.append(metrics.log_loss(val_y, pred_val_y))\n",
    "print(\"Mean cv score : \", np.mean(cv_scores))\n",
    "pred_full_test = pred_full_test / 5.\n",
    "\n",
    "out_df = pd.DataFrame(pred_full_test)\n",
    "out_df.columns = ['EAP', 'HPL', 'MWS']\n",
    "out_df.insert(0, 'id', test_id)\n",
    "out_df.to_csv(\"./meta_models/test/nb_tfidf.csv\", index=False)\n",
    "\n",
    "out_df = pd.DataFrame(pred_train)\n",
    "out_df.columns = ['EAP', 'HPL', 'MWS']\n",
    "out_df.insert(0, 'id', train_id)\n",
    "out_df.to_csv(\"./meta_models/val/nb_tfidf.csv\", index=False)"
   ]
  },
  {
   "cell_type": "code",
   "execution_count": 26,
   "metadata": {
    "collapsed": false
   },
   "outputs": [
    {
     "data": {
      "image/png": "[encoded data removed]",
      "text/plain": [
       "<matplotlib.figure.Figure at 0x1162e1850>"
      ]
     },
     "metadata": {},
     "output_type": "display_data"
    },
    {
     "name": "stderr",
     "output_type": "stream",
     "text": [
      "/System/Library/Frameworks/Python.framework/Versions/2.7/lib/python2.7/json/encoder.py:207: DeprecationWarning: Interpreting naive datetime as local 2017-11-11 01:05:17.326012. Please add timezone info to timestamps.\n",
      "  chunks = self.iterencode(o, _one_shot=True)\n"
     ]
    }
   ],
   "source": [
    "### Function to create confusion matrix ###\n",
    "import itertools\n",
    "from sklearn.metrics import confusion_matrix\n",
    "\n",
    "### From http://scikit-learn.org/stable/auto_examples/model_selection/plot_confusion_matrix.html#sphx-glr-auto-examples-model-selection-plot-confusion-matrix-py #\n",
    "def plot_confusion_matrix(cm, classes,\n",
    "                          normalize=False,\n",
    "                          title='Confusion matrix',\n",
    "                          cmap=plt.cm.Blues):\n",
    "    \"\"\"\n",
    "    This function prints and plots the confusion matrix.\n",
    "    Normalization can be applied by setting `normalize=True`.\n",
    "    \"\"\"\n",
    "    sns.set_style(\"whitegrid\", {'axes.grid' : False})\n",
    "    if normalize:\n",
    "        cm = cm.astype('float') / cm.sum(axis=1)[:, np.newaxis]\n",
    "        #print(\"Normalized confusion matrix\")\n",
    "    #else:\n",
    "    #    print('Confusion matrix, without normalization')\n",
    "\n",
    "    #print(cm)\n",
    "\n",
    "    plt.imshow(cm, interpolation='nearest', cmap=cmap)\n",
    "    plt.title(title)\n",
    "    plt.colorbar()\n",
    "    tick_marks = np.arange(len(classes))\n",
    "    plt.xticks(tick_marks, classes, rotation=45)\n",
    "    plt.yticks(tick_marks, classes)\n",
    "\n",
    "    fmt = '.2f' if normalize else 'd'\n",
    "    thresh = cm.max() / 2.\n",
    "    for i, j in itertools.product(range(cm.shape[0]), range(cm.shape[1])):\n",
    "        plt.text(j, i, format(cm[i, j], fmt),\n",
    "                 horizontalalignment=\"center\",\n",
    "                 color=\"white\" if cm[i, j] > thresh else \"black\")\n",
    "\n",
    "    plt.tight_layout()\n",
    "    plt.ylabel('True label')\n",
    "    plt.xlabel('Predicted label')\n",
    "    \n",
    "cnf_matrix = confusion_matrix(val_y, np.argmax(pred_val_y,axis=1))\n",
    "np.set_printoptions(precision=2)\n",
    "\n",
    "# Plot non-normalized confusion matrix\n",
    "plt.figure(figsize=(8,8))\n",
    "plot_confusion_matrix(cnf_matrix, classes=['EAP', 'HPL', 'MWS'],\n",
    "                      title='Confusion matrix, without normalization')\n",
    "plt.show()"
   ]
  },
  {
   "cell_type": "markdown",
   "metadata": {},
   "source": [
    "So many instances are predicted as EAP and is highly biased towards that class.\n",
    "\n",
    "**SVD on word TFIDF:**\n",
    "\n",
    "Since the tfidf vectors are sparse, one another way of compressing the information and representing it in a much compact way is through SVD. Also generally SVD features have performed well for me in the past text based competitions. So we could created svd features on word tfidf and add them to our feature set."
   ]
  },
  {
   "cell_type": "code",
   "execution_count": 13,
   "metadata": {
    "collapsed": false
   },
   "outputs": [
    {
     "name": "stderr",
     "output_type": "stream",
     "text": [
      "/System/Library/Frameworks/Python.framework/Versions/2.7/lib/python2.7/json/encoder.py:207: DeprecationWarning: Interpreting naive datetime as local 2017-11-11 00:56:38.495288. Please add timezone info to timestamps.\n",
      "  chunks = self.iterencode(o, _one_shot=True)\n"
     ]
    }
   ],
   "source": [
    "n_comp = 20\n",
    "svd_obj = TruncatedSVD(n_components=n_comp, algorithm='arpack')\n",
    "svd_obj.fit(full_tfidf)\n",
    "train_svd = pd.DataFrame(svd_obj.transform(train_tfidf))\n",
    "test_svd = pd.DataFrame(svd_obj.transform(test_tfidf))\n",
    "    \n",
    "train_svd.columns = ['svd_word_'+str(i) for i in range(n_comp)]\n",
    "test_svd.columns = ['svd_word_'+str(i) for i in range(n_comp)]\n",
    "train_df = pd.concat([train_df, train_svd], axis=1)\n",
    "test_df = pd.concat([test_df, test_svd], axis=1)\n",
    "del full_tfidf, train_tfidf, test_tfidf, train_svd, test_svd"
   ]
  },
  {
   "cell_type": "markdown",
   "metadata": {},
   "source": [
    "### Naive bayes on Count Vectorizer ###"
   ]
  },
  {
   "cell_type": "code",
   "execution_count": 14,
   "metadata": {
    "collapsed": false
   },
   "outputs": [
    {
     "name": "stderr",
     "output_type": "stream",
     "text": [
      "/System/Library/Frameworks/Python.framework/Versions/2.7/lib/python2.7/json/encoder.py:207: DeprecationWarning: Interpreting naive datetime as local 2017-11-11 00:58:49.271239. Please add timezone info to timestamps.\n",
      "  chunks = self.iterencode(o, _one_shot=True)\n"
     ]
    }
   ],
   "source": [
    "### Fit transform the count vectorizer ###\n",
    "tfidf_vec = CountVectorizer(stop_words='english', ngram_range=(1,3))\n",
    "tfidf_vec.fit(train_df['text'].values.tolist() + test_df['text'].values.tolist())\n",
    "train_tfidf = tfidf_vec.transform(train_df['text'].values.tolist())\n",
    "test_tfidf = tfidf_vec.transform(test_df['text'].values.tolist())"
   ]
  },
  {
   "cell_type": "code",
   "execution_count": 18,
   "metadata": {
    "collapsed": false
   },
   "outputs": [
    {
     "name": "stdout",
     "output_type": "stream",
     "text": [
      "('Mean cv score : ', 0.45091841616567468)\n"
     ]
    },
    {
     "name": "stderr",
     "output_type": "stream",
     "text": [
      "/System/Library/Frameworks/Python.framework/Versions/2.7/lib/python2.7/json/encoder.py:207: DeprecationWarning: Interpreting naive datetime as local 2017-11-11 01:03:25.823099. Please add timezone info to timestamps.\n",
      "  chunks = self.iterencode(o, _one_shot=True)\n"
     ]
    }
   ],
   "source": [
    "cv_scores = []\n",
    "pred_full_test = 0\n",
    "pred_train = np.zeros([train_df.shape[0], 3])\n",
    "kf = model_selection.KFold(n_splits=5, shuffle=True, random_state=2017)\n",
    "for dev_index, val_index in kf.split(train_X):\n",
    "    dev_X, val_X = train_tfidf[dev_index], train_tfidf[val_index]\n",
    "    dev_y, val_y = train_y[dev_index], train_y[val_index]\n",
    "    pred_val_y, pred_test_y, model = runMNB(dev_X, dev_y, val_X, val_y, test_tfidf)\n",
    "    pred_full_test = pred_full_test + pred_test_y\n",
    "    pred_train[val_index,:] = pred_val_y\n",
    "    cv_scores.append(metrics.log_loss(val_y, pred_val_y))\n",
    "print(\"Mean cv score : \", np.mean(cv_scores))\n",
    "pred_full_test = pred_full_test / 5.\n",
    "\n",
    "out_df = pd.DataFrame(pred_full_test)\n",
    "out_df.columns = ['EAP', 'HPL', 'MWS']\n",
    "out_df.insert(0, 'id', test_id)\n",
    "out_df.to_csv(\"./meta_models/test/nb_cvec.csv\", index=False)\n",
    "\n",
    "out_df = pd.DataFrame(pred_train)\n",
    "out_df.columns = ['EAP', 'HPL', 'MWS']\n",
    "out_df.insert(0, 'id', train_id)\n",
    "out_df.to_csv(\"./meta_models/val/nb_cvec.csv\", index=False)"
   ]
  },
  {
   "cell_type": "code",
   "execution_count": 21,
   "metadata": {
    "collapsed": false
   },
   "outputs": [
    {
     "data": {
      "image/png": "[encoded data removed]",
      "text/plain": [
       "<matplotlib.figure.Figure at 0x11af0e1d0>"
      ]
     },
     "metadata": {},
     "output_type": "display_data"
    },
    {
     "name": "stderr",
     "output_type": "stream",
     "text": [
      "/System/Library/Frameworks/Python.framework/Versions/2.7/lib/python2.7/json/encoder.py:207: DeprecationWarning: Interpreting naive datetime as local 2017-11-11 01:04:53.477125. Please add timezone info to timestamps.\n",
      "  chunks = self.iterencode(o, _one_shot=True)\n"
     ]
    }
   ],
   "source": [
    "cnf_matrix = confusion_matrix(val_y, np.argmax(pred_val_y,axis=1))\n",
    "np.set_printoptions(precision=2)\n",
    "\n",
    "# Plot non-normalized confusion matrix\n",
    "plt.figure(figsize=(8,8))\n",
    "plot_confusion_matrix(cnf_matrix, classes=['EAP', 'HPL', 'MWS'],\n",
    "                      title='Confusion matrix of NB on word count, without normalization')\n",
    "plt.show()"
   ]
  },
  {
   "cell_type": "markdown",
   "metadata": {},
   "source": [
    "### Naive Bayes on Character Count Vectorizer:\n",
    "\n",
    "One idea from the \"data eyeballing\" is that counting the special charaters might help. Instead of just counting the special characters, we can use the count vectorizer at character level to get some features. Again we can run Multinomial NB on top of it."
   ]
  },
  {
   "cell_type": "code",
   "execution_count": 27,
   "metadata": {
    "collapsed": false
   },
   "outputs": [
    {
     "name": "stdout",
     "output_type": "stream",
     "text": [
      "('Mean cv score : ', 3.750763922681903)\n"
     ]
    },
    {
     "name": "stderr",
     "output_type": "stream",
     "text": [
      "/System/Library/Frameworks/Python.framework/Versions/2.7/lib/python2.7/json/encoder.py:207: DeprecationWarning: Interpreting naive datetime as local 2017-11-11 01:06:04.565697. Please add timezone info to timestamps.\n",
      "  chunks = self.iterencode(o, _one_shot=True)\n"
     ]
    }
   ],
   "source": [
    "### Fit transform the tfidf vectorizer ###\n",
    "tfidf_vec = CountVectorizer(ngram_range=(1,7), analyzer='char')\n",
    "tfidf_vec.fit(train_df['text'].values.tolist() + test_df['text'].values.tolist())\n",
    "train_tfidf = tfidf_vec.transform(train_df['text'].values.tolist())\n",
    "test_tfidf = tfidf_vec.transform(test_df['text'].values.tolist())\n",
    "\n",
    "cv_scores = []\n",
    "pred_full_test = 0\n",
    "pred_train = np.zeros([train_df.shape[0], 3])\n",
    "kf = model_selection.KFold(n_splits=5, shuffle=True, random_state=2017)\n",
    "for dev_index, val_index in kf.split(train_X):\n",
    "    dev_X, val_X = train_tfidf[dev_index], train_tfidf[val_index]\n",
    "    dev_y, val_y = train_y[dev_index], train_y[val_index]\n",
    "    pred_val_y, pred_test_y, model = runMNB(dev_X, dev_y, val_X, val_y, test_tfidf)\n",
    "    pred_full_test = pred_full_test + pred_test_y\n",
    "    pred_train[val_index,:] = pred_val_y\n",
    "    cv_scores.append(metrics.log_loss(val_y, pred_val_y))\n",
    "print(\"Mean cv score : \", np.mean(cv_scores))\n",
    "pred_full_test = pred_full_test / 5."
   ]
  },
  {
   "cell_type": "code",
   "execution_count": 28,
   "metadata": {
    "collapsed": false
   },
   "outputs": [
    {
     "name": "stderr",
     "output_type": "stream",
     "text": [
      "/System/Library/Frameworks/Python.framework/Versions/2.7/lib/python2.7/json/encoder.py:207: DeprecationWarning: Interpreting naive datetime as local 2017-11-11 01:07:08.432093. Please add timezone info to timestamps.\n",
      "  chunks = self.iterencode(o, _one_shot=True)\n"
     ]
    }
   ],
   "source": [
    "out_df = pd.DataFrame(pred_full_test)\n",
    "out_df.columns = ['EAP', 'HPL', 'MWS']\n",
    "out_df.insert(0, 'id', test_id)\n",
    "out_df.to_csv(\"./meta_models/test/nb_char_cvec.csv\", index=False)\n",
    "\n",
    "out_df = pd.DataFrame(pred_train)\n",
    "out_df.columns = ['EAP', 'HPL', 'MWS']\n",
    "out_df.insert(0, 'id', train_id)\n",
    "out_df.to_csv(\"./meta_models/val/nb_char_cvec.csv\", index=False)"
   ]
  },
  {
   "cell_type": "markdown",
   "metadata": {},
   "source": [
    "### Naive Bayes on Character Tfidf Vectorizer:\n",
    "\n",
    "Let us also get the naive bayes predictions on the character tfidf vectorizer."
   ]
  },
  {
   "cell_type": "code",
   "execution_count": 29,
   "metadata": {
    "collapsed": false
   },
   "outputs": [
    {
     "name": "stdout",
     "output_type": "stream",
     "text": [
      "('Mean cv score : ', 0.7904152589474216)\n"
     ]
    },
    {
     "name": "stderr",
     "output_type": "stream",
     "text": [
      "/System/Library/Frameworks/Python.framework/Versions/2.7/lib/python2.7/json/encoder.py:207: DeprecationWarning: Interpreting naive datetime as local 2017-11-11 01:08:05.865324. Please add timezone info to timestamps.\n",
      "  chunks = self.iterencode(o, _one_shot=True)\n"
     ]
    }
   ],
   "source": [
    "### Fit transform the tfidf vectorizer ###\n",
    "tfidf_vec = TfidfVectorizer(ngram_range=(1,5), analyzer='char')\n",
    "full_tfidf = tfidf_vec.fit_transform(train_df['text'].values.tolist() + test_df['text'].values.tolist())\n",
    "train_tfidf = tfidf_vec.transform(train_df['text'].values.tolist())\n",
    "test_tfidf = tfidf_vec.transform(test_df['text'].values.tolist())\n",
    "\n",
    "cv_scores = []\n",
    "pred_full_test = 0\n",
    "pred_train = np.zeros([train_df.shape[0], 3])\n",
    "kf = model_selection.KFold(n_splits=5, shuffle=True, random_state=2017)\n",
    "for dev_index, val_index in kf.split(train_X):\n",
    "    dev_X, val_X = train_tfidf[dev_index], train_tfidf[val_index]\n",
    "    dev_y, val_y = train_y[dev_index], train_y[val_index]\n",
    "    pred_val_y, pred_test_y, model = runMNB(dev_X, dev_y, val_X, val_y, test_tfidf)\n",
    "    pred_full_test = pred_full_test + pred_test_y\n",
    "    pred_train[val_index,:] = pred_val_y\n",
    "    cv_scores.append(metrics.log_loss(val_y, pred_val_y))\n",
    "print(\"Mean cv score : \", np.mean(cv_scores))\n",
    "pred_full_test = pred_full_test / 5."
   ]
  },
  {
   "cell_type": "code",
   "execution_count": 30,
   "metadata": {
    "collapsed": false
   },
   "outputs": [
    {
     "name": "stderr",
     "output_type": "stream",
     "text": [
      "/System/Library/Frameworks/Python.framework/Versions/2.7/lib/python2.7/json/encoder.py:207: DeprecationWarning: Interpreting naive datetime as local 2017-11-11 01:08:44.141249. Please add timezone info to timestamps.\n",
      "  chunks = self.iterencode(o, _one_shot=True)\n"
     ]
    }
   ],
   "source": [
    "out_df = pd.DataFrame(pred_full_test)\n",
    "out_df.columns = ['EAP', 'HPL', 'MWS']\n",
    "out_df.insert(0, 'id', test_id)\n",
    "out_df.to_csv(\"./meta_models/test/nb_char_tfidf.csv\", index=False)\n",
    "\n",
    "out_df = pd.DataFrame(pred_train)\n",
    "out_df.columns = ['EAP', 'HPL', 'MWS']\n",
    "out_df.insert(0, 'id', train_id)\n",
    "out_df.to_csv(\"./meta_models/val/nb_char_tfidf.csv\", index=False)"
   ]
  },
  {
   "cell_type": "markdown",
   "metadata": {},
   "source": [
    "### SVD on Character TFIDF:\n",
    "\n",
    "We could also create svd features on character tfidf features and used them for modeling."
   ]
  },
  {
   "cell_type": "code",
   "execution_count": 31,
   "metadata": {
    "collapsed": false
   },
   "outputs": [
    {
     "name": "stderr",
     "output_type": "stream",
     "text": [
      "/System/Library/Frameworks/Python.framework/Versions/2.7/lib/python2.7/json/encoder.py:207: DeprecationWarning: Interpreting naive datetime as local 2017-11-11 01:09:09.334643. Please add timezone info to timestamps.\n",
      "  chunks = self.iterencode(o, _one_shot=True)\n"
     ]
    }
   ],
   "source": [
    "n_comp = 20\n",
    "svd_obj = TruncatedSVD(n_components=n_comp, algorithm='arpack')\n",
    "svd_obj.fit(full_tfidf)\n",
    "train_svd = pd.DataFrame(svd_obj.transform(train_tfidf))\n",
    "test_svd = pd.DataFrame(svd_obj.transform(test_tfidf))\n",
    "    \n",
    "train_svd.columns = ['svd_char_'+str(i) for i in range(n_comp)]\n",
    "test_svd.columns = ['svd_char_'+str(i) for i in range(n_comp)]\n",
    "train_df = pd.concat([train_df, train_svd], axis=1)\n",
    "test_df = pd.concat([test_df, test_svd], axis=1)\n",
    "del full_tfidf, train_tfidf, test_tfidf, train_svd, test_svd"
   ]
  },
  {
   "cell_type": "code",
   "execution_count": 32,
   "metadata": {
    "collapsed": false
   },
   "outputs": [
    {
     "name": "stderr",
     "output_type": "stream",
     "text": [
      "/System/Library/Frameworks/Python.framework/Versions/2.7/lib/python2.7/json/encoder.py:207: DeprecationWarning: Interpreting naive datetime as local 2017-11-11 01:09:53.897122. Please add timezone info to timestamps.\n",
      "  chunks = self.iterencode(o, _one_shot=True)\n"
     ]
    }
   ],
   "source": [
    "train_df.to_csv(\"../input/train_v2.csv\", index=False)\n",
    "test_df.to_csv(\"../input/test_v2.csv\", index=False)"
   ]
  },
  {
   "cell_type": "markdown",
   "metadata": {},
   "source": [
    "### What other features can we create?"
   ]
  }
 ],
 "metadata": {
  "kernelspec": {
   "display_name": "Python 2",
   "language": "python",
   "name": "python2"
  },
  "language_info": {
   "codemirror_mode": {
    "name": "ipython",
    "version": 2
   },
   "file_extension": ".py",
   "mimetype": "text/x-python",
   "name": "python",
   "nbconvert_exporter": "python",
   "pygments_lexer": "ipython2",
   "version": "2.7.10"
  }
 },
 "nbformat": 4,
 "nbformat_minor": 2
}
