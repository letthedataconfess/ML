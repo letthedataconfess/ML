{
 "cells": [
  {
   "cell_type": "markdown",
   "metadata": {},
   "source": [
    "# Sample code for stacking"
   ]
  },
  {
   "cell_type": "code",
   "execution_count": 15,
   "metadata": {
    "collapsed": false
   },
   "outputs": [
    {
     "name": "stderr",
     "output_type": "stream",
     "text": [
      "/System/Library/Frameworks/Python.framework/Versions/2.7/lib/python2.7/json/encoder.py:207: DeprecationWarning: Interpreting naive datetime as local 2017-11-11 01:20:01.201946. Please add timezone info to timestamps.\n",
      "  chunks = self.iterencode(o, _one_shot=True)\n"
     ]
    }
   ],
   "source": [
    "import numpy as np # linear algebra\n",
    "import pandas as pd # data processing, CSV file I/O (e.g. pd.read_csv)\n",
    "import matplotlib.pyplot as plt\n",
    "import seaborn as sns\n",
    "import nltk\n",
    "from nltk.corpus import stopwords\n",
    "import string\n",
    "import xgboost as xgb\n",
    "from sklearn.feature_extraction.text import TfidfVectorizer, CountVectorizer\n",
    "from sklearn.decomposition import TruncatedSVD\n",
    "from sklearn import ensemble, metrics, model_selection, naive_bayes\n",
    "color = sns.color_palette()\n",
    "\n",
    "%matplotlib inline\n",
    "\n",
    "eng_stopwords = set(stopwords.words(\"english\"))\n",
    "pd.options.mode.chained_assignment = None"
   ]
  },
  {
   "cell_type": "code",
   "execution_count": 16,
   "metadata": {
    "collapsed": false
   },
   "outputs": [
    {
     "name": "stdout",
     "output_type": "stream",
     "text": [
      "('Number of rows in train dataset : ', 19579)\n",
      "('Number of rows in test dataset : ', 8392)\n"
     ]
    },
    {
     "name": "stderr",
     "output_type": "stream",
     "text": [
      "/System/Library/Frameworks/Python.framework/Versions/2.7/lib/python2.7/json/encoder.py:207: DeprecationWarning: Interpreting naive datetime as local 2017-11-11 01:20:01.577745. Please add timezone info to timestamps.\n",
      "  chunks = self.iterencode(o, _one_shot=True)\n"
     ]
    }
   ],
   "source": [
    "## Read the train and test dataset and check the top few lines ##\n",
    "train_df = pd.read_csv(\"../input/train_v2.csv\")\n",
    "test_df = pd.read_csv(\"../input/test_v2.csv\")\n",
    "print(\"Number of rows in train dataset : \",train_df.shape[0])\n",
    "print(\"Number of rows in test dataset : \",test_df.shape[0])"
   ]
  },
  {
   "cell_type": "code",
   "execution_count": 17,
   "metadata": {
    "collapsed": false
   },
   "outputs": [
    {
     "data": {
      "text/html": [
       "<div>\n",
       "<style>\n",
       "    .dataframe thead tr:only-child th {\n",
       "        text-align: right;\n",
       "    }\n",
       "\n",
       "    .dataframe thead th {\n",
       "        text-align: left;\n",
       "    }\n",
       "\n",
       "    .dataframe tbody tr th {\n",
       "        vertical-align: top;\n",
       "    }\n",
       "</style>\n",
       "<table border=\"1\" class=\"dataframe\">\n",
       "  <thead>\n",
       "    <tr style=\"text-align: right;\">\n",
       "      <th></th>\n",
       "      <th>id</th>\n",
       "      <th>text</th>\n",
       "      <th>author</th>\n",
       "      <th>num_words</th>\n",
       "      <th>num_unique_words</th>\n",
       "      <th>num_chars</th>\n",
       "      <th>num_stopwords</th>\n",
       "      <th>num_punctuations</th>\n",
       "      <th>num_words_upper</th>\n",
       "      <th>num_words_title</th>\n",
       "      <th>...</th>\n",
       "      <th>svd_char_10</th>\n",
       "      <th>svd_char_11</th>\n",
       "      <th>svd_char_12</th>\n",
       "      <th>svd_char_13</th>\n",
       "      <th>svd_char_14</th>\n",
       "      <th>svd_char_15</th>\n",
       "      <th>svd_char_16</th>\n",
       "      <th>svd_char_17</th>\n",
       "      <th>svd_char_18</th>\n",
       "      <th>svd_char_19</th>\n",
       "    </tr>\n",
       "  </thead>\n",
       "  <tbody>\n",
       "    <tr>\n",
       "      <th>0</th>\n",
       "      <td>id26305</td>\n",
       "      <td>This process, however, afforded me no means of...</td>\n",
       "      <td>EAP</td>\n",
       "      <td>41</td>\n",
       "      <td>35</td>\n",
       "      <td>231</td>\n",
       "      <td>19</td>\n",
       "      <td>7</td>\n",
       "      <td>2</td>\n",
       "      <td>3</td>\n",
       "      <td>...</td>\n",
       "      <td>-0.014060</td>\n",
       "      <td>0.024332</td>\n",
       "      <td>0.021053</td>\n",
       "      <td>-0.011783</td>\n",
       "      <td>0.014391</td>\n",
       "      <td>-0.008009</td>\n",
       "      <td>0.013331</td>\n",
       "      <td>-0.050801</td>\n",
       "      <td>0.006386</td>\n",
       "      <td>0.017673</td>\n",
       "    </tr>\n",
       "    <tr>\n",
       "      <th>1</th>\n",
       "      <td>id17569</td>\n",
       "      <td>It never once occurred to me that the fumbling...</td>\n",
       "      <td>HPL</td>\n",
       "      <td>14</td>\n",
       "      <td>14</td>\n",
       "      <td>71</td>\n",
       "      <td>8</td>\n",
       "      <td>1</td>\n",
       "      <td>0</td>\n",
       "      <td>1</td>\n",
       "      <td>...</td>\n",
       "      <td>-0.005025</td>\n",
       "      <td>0.058803</td>\n",
       "      <td>0.053368</td>\n",
       "      <td>-0.025234</td>\n",
       "      <td>-0.054745</td>\n",
       "      <td>0.004292</td>\n",
       "      <td>0.020517</td>\n",
       "      <td>-0.021551</td>\n",
       "      <td>-0.043966</td>\n",
       "      <td>-0.062726</td>\n",
       "    </tr>\n",
       "    <tr>\n",
       "      <th>2</th>\n",
       "      <td>id11008</td>\n",
       "      <td>In his left hand was a gold snuff box, from wh...</td>\n",
       "      <td>EAP</td>\n",
       "      <td>36</td>\n",
       "      <td>32</td>\n",
       "      <td>200</td>\n",
       "      <td>16</td>\n",
       "      <td>5</td>\n",
       "      <td>0</td>\n",
       "      <td>1</td>\n",
       "      <td>...</td>\n",
       "      <td>0.033147</td>\n",
       "      <td>-0.041294</td>\n",
       "      <td>0.006699</td>\n",
       "      <td>0.010584</td>\n",
       "      <td>-0.021652</td>\n",
       "      <td>-0.012883</td>\n",
       "      <td>-0.048039</td>\n",
       "      <td>0.006840</td>\n",
       "      <td>-0.007042</td>\n",
       "      <td>0.000872</td>\n",
       "    </tr>\n",
       "    <tr>\n",
       "      <th>3</th>\n",
       "      <td>id27763</td>\n",
       "      <td>How lovely is spring As we looked from Windsor...</td>\n",
       "      <td>MWS</td>\n",
       "      <td>34</td>\n",
       "      <td>32</td>\n",
       "      <td>206</td>\n",
       "      <td>13</td>\n",
       "      <td>4</td>\n",
       "      <td>0</td>\n",
       "      <td>4</td>\n",
       "      <td>...</td>\n",
       "      <td>0.012433</td>\n",
       "      <td>0.013249</td>\n",
       "      <td>0.045197</td>\n",
       "      <td>-0.016095</td>\n",
       "      <td>-0.023079</td>\n",
       "      <td>-0.017996</td>\n",
       "      <td>-0.024845</td>\n",
       "      <td>0.009133</td>\n",
       "      <td>0.029233</td>\n",
       "      <td>0.016250</td>\n",
       "    </tr>\n",
       "    <tr>\n",
       "      <th>4</th>\n",
       "      <td>id12958</td>\n",
       "      <td>Finding nothing else, not even gold, the Super...</td>\n",
       "      <td>HPL</td>\n",
       "      <td>27</td>\n",
       "      <td>25</td>\n",
       "      <td>174</td>\n",
       "      <td>11</td>\n",
       "      <td>4</td>\n",
       "      <td>0</td>\n",
       "      <td>2</td>\n",
       "      <td>...</td>\n",
       "      <td>-0.044100</td>\n",
       "      <td>0.099443</td>\n",
       "      <td>-0.007989</td>\n",
       "      <td>-0.058220</td>\n",
       "      <td>0.023924</td>\n",
       "      <td>0.012136</td>\n",
       "      <td>-0.002706</td>\n",
       "      <td>-0.013356</td>\n",
       "      <td>0.020759</td>\n",
       "      <td>0.024944</td>\n",
       "    </tr>\n",
       "  </tbody>\n",
       "</table>\n",
       "<p>5 rows × 51 columns</p>\n",
       "</div>"
      ],
      "text/plain": [
       "        id                                               text author  \\\n",
       "0  id26305  This process, however, afforded me no means of...    EAP   \n",
       "1  id17569  It never once occurred to me that the fumbling...    HPL   \n",
       "2  id11008  In his left hand was a gold snuff box, from wh...    EAP   \n",
       "3  id27763  How lovely is spring As we looked from Windsor...    MWS   \n",
       "4  id12958  Finding nothing else, not even gold, the Super...    HPL   \n",
       "\n",
       "   num_words  num_unique_words  num_chars  num_stopwords  num_punctuations  \\\n",
       "0         41                35        231             19                 7   \n",
       "1         14                14         71              8                 1   \n",
       "2         36                32        200             16                 5   \n",
       "3         34                32        206             13                 4   \n",
       "4         27                25        174             11                 4   \n",
       "\n",
       "   num_words_upper  num_words_title     ...       svd_char_10  svd_char_11  \\\n",
       "0                2                3     ...         -0.014060     0.024332   \n",
       "1                0                1     ...         -0.005025     0.058803   \n",
       "2                0                1     ...          0.033147    -0.041294   \n",
       "3                0                4     ...          0.012433     0.013249   \n",
       "4                0                2     ...         -0.044100     0.099443   \n",
       "\n",
       "   svd_char_12  svd_char_13  svd_char_14  svd_char_15  svd_char_16  \\\n",
       "0     0.021053    -0.011783     0.014391    -0.008009     0.013331   \n",
       "1     0.053368    -0.025234    -0.054745     0.004292     0.020517   \n",
       "2     0.006699     0.010584    -0.021652    -0.012883    -0.048039   \n",
       "3     0.045197    -0.016095    -0.023079    -0.017996    -0.024845   \n",
       "4    -0.007989    -0.058220     0.023924     0.012136    -0.002706   \n",
       "\n",
       "   svd_char_17  svd_char_18  svd_char_19  \n",
       "0    -0.050801     0.006386     0.017673  \n",
       "1    -0.021551    -0.043966    -0.062726  \n",
       "2     0.006840    -0.007042     0.000872  \n",
       "3     0.009133     0.029233     0.016250  \n",
       "4    -0.013356     0.020759     0.024944  \n",
       "\n",
       "[5 rows x 51 columns]"
      ]
     },
     "execution_count": 17,
     "metadata": {},
     "output_type": "execute_result"
    },
    {
     "name": "stderr",
     "output_type": "stream",
     "text": [
      "/System/Library/Frameworks/Python.framework/Versions/2.7/lib/python2.7/json/encoder.py:207: DeprecationWarning: Interpreting naive datetime as local 2017-11-11 01:20:02.032955. Please add timezone info to timestamps.\n",
      "  chunks = self.iterencode(o, _one_shot=True)\n"
     ]
    }
   ],
   "source": [
    "train_df.head()"
   ]
  },
  {
   "cell_type": "code",
   "execution_count": 18,
   "metadata": {
    "collapsed": false
   },
   "outputs": [
    {
     "name": "stdout",
     "output_type": "stream",
     "text": [
      "(19579, 51) (8392, 50)\n"
     ]
    },
    {
     "name": "stderr",
     "output_type": "stream",
     "text": [
      "/System/Library/Frameworks/Python.framework/Versions/2.7/lib/python2.7/json/encoder.py:207: DeprecationWarning: Interpreting naive datetime as local 2017-11-11 01:20:02.305726. Please add timezone info to timestamps.\n",
      "  chunks = self.iterencode(o, _one_shot=True)\n"
     ]
    }
   ],
   "source": [
    "## Prepare the data for modeling ###\n",
    "author_mapping_dict = {'EAP':0, 'HPL':1, 'MWS':2}\n",
    "train_y = train_df['author'].map(author_mapping_dict)\n",
    "train_id = train_df['id'].values\n",
    "test_id = test_df['id'].values\n",
    "print train_df.shape, test_df.shape"
   ]
  },
  {
   "cell_type": "markdown",
   "metadata": {},
   "source": [
    "Read all the prediction files and use them for stacking"
   ]
  },
  {
   "cell_type": "code",
   "execution_count": 20,
   "metadata": {
    "collapsed": false
   },
   "outputs": [
    {
     "name": "stdout",
     "output_type": "stream",
     "text": [
      "(19579, 54) (8392, 53)\n",
      "(19579, 57) (8392, 56)\n",
      "(19579, 60) (8392, 59)\n",
      "(19579, 63) (8392, 62)\n"
     ]
    },
    {
     "name": "stderr",
     "output_type": "stream",
     "text": [
      "/System/Library/Frameworks/Python.framework/Versions/2.7/lib/python2.7/json/encoder.py:207: DeprecationWarning: Interpreting naive datetime as local 2017-11-11 01:20:44.720675. Please add timezone info to timestamps.\n",
      "  chunks = self.iterencode(o, _one_shot=True)\n"
     ]
    }
   ],
   "source": [
    "for file_name in [\"nb_tfidf.csv\", \"nb_cvec.csv\", \"nb_char_tfidf.csv\", \"nb_char_cvec.csv\"]:\n",
    "    fname = file_name.replace(\".csv\",\"\")\n",
    "    train_df2 = pd.read_csv(\"./meta_models/val/\"+file_name)\n",
    "    train_df2.columns = [\"id\"] + [fname+\"_\"+name for name in train_df2.columns if name not in [\"id\"]]\n",
    "    test_df2 = pd.read_csv(\"./meta_models/test/\"+file_name)\n",
    "    test_df2.columns = [\"id\"] + [fname+\"_\"+name for name in test_df2.columns if name not in [\"id\"]]\n",
    "    train_df = pd.merge(train_df, train_df2, on=\"id\")\n",
    "    test_df = pd.merge(test_df, test_df2, on=\"id\")\n",
    "    print train_df.shape, test_df.shape"
   ]
  },
  {
   "cell_type": "code",
   "execution_count": 21,
   "metadata": {
    "collapsed": false
   },
   "outputs": [
    {
     "name": "stderr",
     "output_type": "stream",
     "text": [
      "/System/Library/Frameworks/Python.framework/Versions/2.7/lib/python2.7/json/encoder.py:207: DeprecationWarning: Interpreting naive datetime as local 2017-11-11 01:20:51.942544. Please add timezone info to timestamps.\n",
      "  chunks = self.iterencode(o, _one_shot=True)\n"
     ]
    }
   ],
   "source": [
    "def runXGB(train_X, train_y, test_X, test_y=None, test_X2=None, seed_val=0, child=1, colsample=0.3):\n",
    "    param = {}\n",
    "    param['objective'] = 'multi:softprob'\n",
    "    param['eta'] = 0.1\n",
    "    param['max_depth'] = 3\n",
    "    param['silent'] = 1\n",
    "    param['num_class'] = 3\n",
    "    param['eval_metric'] = \"mlogloss\"\n",
    "    param['min_child_weight'] = child\n",
    "    param['subsample'] = 0.8\n",
    "    param['colsample_bytree'] = colsample\n",
    "    param['seed'] = seed_val\n",
    "    num_rounds = 2000\n",
    "\n",
    "    plst = list(param.items())\n",
    "    xgtrain = xgb.DMatrix(train_X, label=train_y)\n",
    "\n",
    "    if test_y is not None:\n",
    "        xgtest = xgb.DMatrix(test_X, label=test_y)\n",
    "        watchlist = [ (xgtrain,'train'), (xgtest, 'test') ]\n",
    "        model = xgb.train(plst, xgtrain, num_rounds, watchlist, early_stopping_rounds=50, verbose_eval=20)\n",
    "    else:\n",
    "        xgtest = xgb.DMatrix(test_X)\n",
    "        model = xgb.train(plst, xgtrain, num_rounds)\n",
    "\n",
    "    pred_test_y = model.predict(xgtest, ntree_limit = model.best_ntree_limit)\n",
    "    if test_X2 is not None:\n",
    "        xgtest2 = xgb.DMatrix(test_X2)\n",
    "        pred_test_y2 = model.predict(xgtest2, ntree_limit = model.best_ntree_limit)\n",
    "    return pred_test_y, pred_test_y2, model"
   ]
  },
  {
   "cell_type": "code",
   "execution_count": 23,
   "metadata": {
    "collapsed": false
   },
   "outputs": [
    {
     "name": "stdout",
     "output_type": "stream",
     "text": [
      "[0]\ttrain-mlogloss:1.00336\ttest-mlogloss:1.00349\n",
      "Multiple eval metrics have been passed: 'test-mlogloss' will be used for early stopping.\n",
      "\n",
      "Will train until test-mlogloss hasn't improved in 50 rounds.\n",
      "[20]\ttrain-mlogloss:0.408756\ttest-mlogloss:0.414988\n",
      "[40]\ttrain-mlogloss:0.339712\ttest-mlogloss:0.353537\n",
      "[60]\ttrain-mlogloss:0.315529\ttest-mlogloss:0.336463\n",
      "[80]\ttrain-mlogloss:0.298395\ttest-mlogloss:0.327361\n",
      "[100]\ttrain-mlogloss:0.285165\ttest-mlogloss:0.321628\n",
      "[120]\ttrain-mlogloss:0.273538\ttest-mlogloss:0.317521\n",
      "[140]\ttrain-mlogloss:0.263974\ttest-mlogloss:0.314607\n",
      "[160]\ttrain-mlogloss:0.2554\ttest-mlogloss:0.312871\n",
      "[180]\ttrain-mlogloss:0.247543\ttest-mlogloss:0.311416\n",
      "[200]\ttrain-mlogloss:0.24034\ttest-mlogloss:0.310575\n",
      "[220]\ttrain-mlogloss:0.233351\ttest-mlogloss:0.309636\n",
      "[240]\ttrain-mlogloss:0.226726\ttest-mlogloss:0.309377\n",
      "[260]\ttrain-mlogloss:0.219944\ttest-mlogloss:0.308463\n",
      "[280]\ttrain-mlogloss:0.214049\ttest-mlogloss:0.307917\n",
      "[300]\ttrain-mlogloss:0.207903\ttest-mlogloss:0.307774\n",
      "[320]\ttrain-mlogloss:0.202399\ttest-mlogloss:0.307345\n",
      "[340]\ttrain-mlogloss:0.197288\ttest-mlogloss:0.307592\n",
      "[360]\ttrain-mlogloss:0.192437\ttest-mlogloss:0.30753\n",
      "Stopping. Best iteration:\n",
      "[326]\ttrain-mlogloss:0.200925\ttest-mlogloss:0.30716\n",
      "\n",
      "[0]\ttrain-mlogloss:1.00322\ttest-mlogloss:1.00352\n",
      "Multiple eval metrics have been passed: 'test-mlogloss' will be used for early stopping.\n",
      "\n",
      "Will train until test-mlogloss hasn't improved in 50 rounds.\n",
      "[20]\ttrain-mlogloss:0.408282\ttest-mlogloss:0.418114\n",
      "[40]\ttrain-mlogloss:0.337342\ttest-mlogloss:0.355163\n",
      "[60]\ttrain-mlogloss:0.311919\ttest-mlogloss:0.339362\n",
      "[80]\ttrain-mlogloss:0.294749\ttest-mlogloss:0.330188\n",
      "[100]\ttrain-mlogloss:0.280935\ttest-mlogloss:0.324055\n",
      "[120]\ttrain-mlogloss:0.269096\ttest-mlogloss:0.321439\n",
      "[140]\ttrain-mlogloss:0.2593\ttest-mlogloss:0.32021\n",
      "[160]\ttrain-mlogloss:0.25031\ttest-mlogloss:0.317824\n",
      "[180]\ttrain-mlogloss:0.242165\ttest-mlogloss:0.316683\n",
      "[200]\ttrain-mlogloss:0.235194\ttest-mlogloss:0.315914\n",
      "[220]\ttrain-mlogloss:0.22859\ttest-mlogloss:0.315434\n",
      "[240]\ttrain-mlogloss:0.22224\ttest-mlogloss:0.314973\n",
      "[260]\ttrain-mlogloss:0.216412\ttest-mlogloss:0.314816\n",
      "[280]\ttrain-mlogloss:0.210324\ttest-mlogloss:0.314614\n",
      "[300]\ttrain-mlogloss:0.204534\ttest-mlogloss:0.314682\n",
      "[320]\ttrain-mlogloss:0.199228\ttest-mlogloss:0.314678\n",
      "[340]\ttrain-mlogloss:0.194079\ttest-mlogloss:0.314725\n",
      "[360]\ttrain-mlogloss:0.188815\ttest-mlogloss:0.315022\n",
      "[380]\ttrain-mlogloss:0.184131\ttest-mlogloss:0.315178\n",
      "Stopping. Best iteration:\n",
      "[331]\ttrain-mlogloss:0.19627\ttest-mlogloss:0.314285\n",
      "\n",
      "[0]\ttrain-mlogloss:1.0032\ttest-mlogloss:1.00508\n",
      "Multiple eval metrics have been passed: 'test-mlogloss' will be used for early stopping.\n",
      "\n",
      "Will train until test-mlogloss hasn't improved in 50 rounds.\n",
      "[20]\ttrain-mlogloss:0.406409\ttest-mlogloss:0.42386\n",
      "[40]\ttrain-mlogloss:0.336896\ttest-mlogloss:0.362231\n",
      "[60]\ttrain-mlogloss:0.312652\ttest-mlogloss:0.34621\n",
      "[80]\ttrain-mlogloss:0.29875\ttest-mlogloss:0.339558\n",
      "[100]\ttrain-mlogloss:0.285641\ttest-mlogloss:0.334027\n",
      "[120]\ttrain-mlogloss:0.275177\ttest-mlogloss:0.331616\n",
      "[140]\ttrain-mlogloss:0.265318\ttest-mlogloss:0.328897\n",
      "[160]\ttrain-mlogloss:0.25676\ttest-mlogloss:0.327046\n",
      "[180]\ttrain-mlogloss:0.249492\ttest-mlogloss:0.325853\n",
      "[200]\ttrain-mlogloss:0.242584\ttest-mlogloss:0.324601\n",
      "[220]\ttrain-mlogloss:0.235754\ttest-mlogloss:0.32419\n",
      "[240]\ttrain-mlogloss:0.229082\ttest-mlogloss:0.32324\n",
      "[260]\ttrain-mlogloss:0.223037\ttest-mlogloss:0.322651\n",
      "[280]\ttrain-mlogloss:0.216431\ttest-mlogloss:0.321927\n",
      "[300]\ttrain-mlogloss:0.210935\ttest-mlogloss:0.32173\n",
      "[320]\ttrain-mlogloss:0.205422\ttest-mlogloss:0.321724\n",
      "[340]\ttrain-mlogloss:0.19963\ttest-mlogloss:0.322153\n",
      "Stopping. Best iteration:\n",
      "[301]\ttrain-mlogloss:0.210505\ttest-mlogloss:0.321646\n",
      "\n",
      "[0]\ttrain-mlogloss:1.00303\ttest-mlogloss:1.00275\n",
      "Multiple eval metrics have been passed: 'test-mlogloss' will be used for early stopping.\n",
      "\n",
      "Will train until test-mlogloss hasn't improved in 50 rounds.\n",
      "[20]\ttrain-mlogloss:0.411174\ttest-mlogloss:0.41161\n",
      "[40]\ttrain-mlogloss:0.34205\ttest-mlogloss:0.348292\n",
      "[60]\ttrain-mlogloss:0.319007\ttest-mlogloss:0.332276\n",
      "[80]\ttrain-mlogloss:0.302862\ttest-mlogloss:0.322635\n",
      "[100]\ttrain-mlogloss:0.290619\ttest-mlogloss:0.316774\n",
      "[120]\ttrain-mlogloss:0.280187\ttest-mlogloss:0.312436\n",
      "[140]\ttrain-mlogloss:0.271065\ttest-mlogloss:0.309941\n",
      "[160]\ttrain-mlogloss:0.262184\ttest-mlogloss:0.307714\n",
      "[180]\ttrain-mlogloss:0.254424\ttest-mlogloss:0.306872\n",
      "[200]\ttrain-mlogloss:0.246374\ttest-mlogloss:0.305427\n",
      "[220]\ttrain-mlogloss:0.239914\ttest-mlogloss:0.304897\n",
      "[240]\ttrain-mlogloss:0.23391\ttest-mlogloss:0.304481\n",
      "[260]\ttrain-mlogloss:0.227855\ttest-mlogloss:0.304499\n",
      "[280]\ttrain-mlogloss:0.221723\ttest-mlogloss:0.303808\n",
      "[300]\ttrain-mlogloss:0.216124\ttest-mlogloss:0.303445\n",
      "[320]\ttrain-mlogloss:0.210647\ttest-mlogloss:0.303814\n",
      "[340]\ttrain-mlogloss:0.205811\ttest-mlogloss:0.30447\n",
      "Stopping. Best iteration:\n",
      "[300]\ttrain-mlogloss:0.216124\ttest-mlogloss:0.303445\n",
      "\n",
      "[0]\ttrain-mlogloss:1.00257\ttest-mlogloss:1.00328\n",
      "Multiple eval metrics have been passed: 'test-mlogloss' will be used for early stopping.\n",
      "\n",
      "Will train until test-mlogloss hasn't improved in 50 rounds.\n",
      "[20]\ttrain-mlogloss:0.408683\ttest-mlogloss:0.419298\n",
      "[40]\ttrain-mlogloss:0.339155\ttest-mlogloss:0.356987\n",
      "[60]\ttrain-mlogloss:0.315592\ttest-mlogloss:0.340935\n",
      "[80]\ttrain-mlogloss:0.298128\ttest-mlogloss:0.331235\n",
      "[100]\ttrain-mlogloss:0.28449\ttest-mlogloss:0.325067\n",
      "[120]\ttrain-mlogloss:0.273589\ttest-mlogloss:0.321391\n",
      "[140]\ttrain-mlogloss:0.264285\ttest-mlogloss:0.318715\n",
      "[160]\ttrain-mlogloss:0.25636\ttest-mlogloss:0.316065\n",
      "[180]\ttrain-mlogloss:0.249525\ttest-mlogloss:0.315022\n",
      "[200]\ttrain-mlogloss:0.242299\ttest-mlogloss:0.313497\n",
      "[220]\ttrain-mlogloss:0.235182\ttest-mlogloss:0.312961\n",
      "[240]\ttrain-mlogloss:0.229622\ttest-mlogloss:0.312884\n",
      "[260]\ttrain-mlogloss:0.223339\ttest-mlogloss:0.312016\n",
      "[280]\ttrain-mlogloss:0.217695\ttest-mlogloss:0.311574\n",
      "[300]\ttrain-mlogloss:0.212105\ttest-mlogloss:0.311303\n",
      "[320]\ttrain-mlogloss:0.206704\ttest-mlogloss:0.311078\n",
      "[340]\ttrain-mlogloss:0.201666\ttest-mlogloss:0.310835\n",
      "[360]\ttrain-mlogloss:0.196628\ttest-mlogloss:0.310534\n",
      "[380]\ttrain-mlogloss:0.192013\ttest-mlogloss:0.310988\n",
      "[400]\ttrain-mlogloss:0.187377\ttest-mlogloss:0.310809\n",
      "Stopping. Best iteration:\n",
      "[354]\ttrain-mlogloss:0.19805\ttest-mlogloss:0.31047\n",
      "\n",
      "('cv scores : ', 0.31140102762524002)\n"
     ]
    },
    {
     "name": "stderr",
     "output_type": "stream",
     "text": [
      "/System/Library/Frameworks/Python.framework/Versions/2.7/lib/python2.7/json/encoder.py:207: DeprecationWarning: Interpreting naive datetime as local 2017-11-11 01:21:23.654749. Please add timezone info to timestamps.\n",
      "  chunks = self.iterencode(o, _one_shot=True)\n"
     ]
    }
   ],
   "source": [
    "cols_to_drop = ['id', 'text']\n",
    "train_X = train_df.drop(cols_to_drop+['author'], axis=1)\n",
    "test_X = test_df.drop(cols_to_drop, axis=1)\n",
    "\n",
    "kf = model_selection.KFold(n_splits=5, shuffle=True, random_state=2017)\n",
    "cv_scores = []\n",
    "pred_full_test = 0\n",
    "pred_train = np.zeros([train_df.shape[0], 3])\n",
    "for dev_index, val_index in kf.split(train_X):\n",
    "    dev_X, val_X = train_X.loc[dev_index], train_X.loc[val_index]\n",
    "    dev_y, val_y = train_y[dev_index], train_y[val_index]\n",
    "    pred_val_y, pred_test_y, model = runXGB(dev_X, dev_y, val_X, val_y, test_X, seed_val=0, colsample=0.7)\n",
    "    pred_full_test = pred_full_test + pred_test_y\n",
    "    pred_train[val_index,:] = pred_val_y\n",
    "    cv_scores.append(metrics.log_loss(val_y, pred_val_y))\n",
    "    #break\n",
    "print(\"cv scores : \", np.mean(cv_scores))\n"
   ]
  },
  {
   "cell_type": "markdown",
   "metadata": {},
   "source": [
    "CV score is 0.31140 and is much better than our individual model cv of 0.4509"
   ]
  },
  {
   "cell_type": "code",
   "execution_count": 24,
   "metadata": {
    "collapsed": false
   },
   "outputs": [
    {
     "data": {
      "image/png": "[encoded data removed]",
      "text/plain": [
       "<matplotlib.figure.Figure at 0x1127b0cd0>"
      ]
     },
     "metadata": {},
     "output_type": "display_data"
    },
    {
     "name": "stderr",
     "output_type": "stream",
     "text": [
      "/System/Library/Frameworks/Python.framework/Versions/2.7/lib/python2.7/json/encoder.py:207: DeprecationWarning: Interpreting naive datetime as local 2017-11-11 01:23:59.793367. Please add timezone info to timestamps.\n",
      "  chunks = self.iterencode(o, _one_shot=True)\n"
     ]
    }
   ],
   "source": [
    "### Plot the important variables ###\n",
    "fig, ax = plt.subplots(figsize=(12,12))\n",
    "xgb.plot_importance(model, max_num_features=50, height=0.8, ax=ax)\n",
    "plt.show()"
   ]
  }
 ],
 "metadata": {
  "kernelspec": {
   "display_name": "Python 2",
   "language": "python",
   "name": "python2"
  },
  "language_info": {
   "codemirror_mode": {
    "name": "ipython",
    "version": 2
   },
   "file_extension": ".py",
   "mimetype": "text/x-python",
   "name": "python",
   "nbconvert_exporter": "python",
   "pygments_lexer": "ipython2",
   "version": "2.7.10"
  }
 },
 "nbformat": 4,
 "nbformat_minor": 2
}
