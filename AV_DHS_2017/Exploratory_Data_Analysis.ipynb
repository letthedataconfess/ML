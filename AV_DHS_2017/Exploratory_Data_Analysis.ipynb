{
 "cells": [
  {
   "cell_type": "markdown",
   "metadata": {},
   "source": [
    "# Data Exploration\n",
    "\n",
    "First, let us start with something numeric. We shall look into this [Kaggle competition - Zillow Prize Estimate](https://www.kaggle.com/c/zillow-prize-1)\n",
    "\n",
    "1. [Python EDA Notebook](https://www.kaggle.com/c/zillow-prize-1)\n",
    "2. [R EDA Notebook](https://www.kaggle.com/philippsp/exploratory-analysis-zillow) by Philipp\n",
    "\n",
    "\n",
    "\n",
    "\n",
    "We will look at the Data Exploration scripts of [Kaggle Competition - Spooky Author Identification](https://www.kaggle.com/c/spooky-author-identification)\n",
    "\n",
    "1. [Python EDA Notebook](https://www.kaggle.com/arthurtok/spooky-nlp-and-topic-modelling-tutorial) by Anisotropic\n",
    "2. [R EDA Notebook](https://www.kaggle.com/headsortails/treemap-house-of-horror-spooky-eda-lda-features) by Heads or Tails"
   ]
  }
 ],
 "metadata": {
  "kernelspec": {
   "display_name": "Python 2",
   "language": "python",
   "name": "python2"
  },
  "language_info": {
   "codemirror_mode": {
    "name": "ipython",
    "version": 2
   },
   "file_extension": ".py",
   "mimetype": "text/x-python",
   "name": "python",
   "nbconvert_exporter": "python",
   "pygments_lexer": "ipython2",
   "version": "2.7.10"
  }
 },
 "nbformat": 4,
 "nbformat_minor": 2
}
